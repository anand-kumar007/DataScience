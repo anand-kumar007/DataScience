{
 "cells": [
  {
   "cell_type": "markdown",
   "metadata": {},
   "source": [
    "# Tensorboard\n",
    "\n",
    "---\n",
    "---\n",
    "\n",
    "**NOTE: You must watch the corresponding video to understand this lecture. This notebook can't serve as a full guide. Please watch the video BEFORE posting questions to the QA forum.**\n",
    "\n",
    "---\n",
    "---\n",
    "\n",
    "Let's explore the built in data visualization capabilities that come with Tensorboard.\n",
    "\n",
    "Full official tutorial available here: https://www.tensorflow.org/tensorboard/get_started\n",
    "\n",
    "## Data"
   ]
  },
  {
   "cell_type": "markdown",
   "metadata": {},
   "source": [
    "**Tensorboard is a vizulation tool from google designed** \n",
    "\n",
    "**to work in conjuction with**\n",
    "**tensorflow to visulalize various factor of your model**"
   ]
  },
  {
   "cell_type": "code",
   "execution_count": 1,
   "metadata": {},
   "outputs": [],
   "source": [
    "import pandas as pd\n",
    "import numpy as np"
   ]
  },
  {
   "cell_type": "code",
   "execution_count": 2,
   "metadata": {},
   "outputs": [],
   "source": [
    "df = pd.read_csv('../DATA/cancer_classification.csv')"
   ]
  },
  {
   "cell_type": "markdown",
   "metadata": {},
   "source": [
    "### Train Test Split"
   ]
  },
  {
   "cell_type": "code",
   "execution_count": 3,
   "metadata": {},
   "outputs": [],
   "source": [
    "X = df.drop('benign_0__mal_1',axis=1).values\n",
    "y = df['benign_0__mal_1'].values"
   ]
  },
  {
   "cell_type": "code",
   "execution_count": 4,
   "metadata": {},
   "outputs": [],
   "source": [
    "from sklearn.model_selection import train_test_split"
   ]
  },
  {
   "cell_type": "code",
   "execution_count": 5,
   "metadata": {},
   "outputs": [],
   "source": [
    "X_train, X_test, y_train, y_test = train_test_split(X,y,test_size=0.25,random_state=101)"
   ]
  },
  {
   "cell_type": "markdown",
   "metadata": {},
   "source": [
    "\n",
    "### Scaling Data"
   ]
  },
  {
   "cell_type": "code",
   "execution_count": 6,
   "metadata": {},
   "outputs": [],
   "source": [
    "from sklearn.preprocessing import MinMaxScaler"
   ]
  },
  {
   "cell_type": "code",
   "execution_count": 7,
   "metadata": {},
   "outputs": [],
   "source": [
    "scaler = MinMaxScaler()"
   ]
  },
  {
   "cell_type": "code",
   "execution_count": 8,
   "metadata": {},
   "outputs": [
    {
     "data": {
      "text/plain": [
       "MinMaxScaler()"
      ]
     },
     "execution_count": 8,
     "metadata": {},
     "output_type": "execute_result"
    }
   ],
   "source": [
    "scaler.fit(X_train)"
   ]
  },
  {
   "cell_type": "code",
   "execution_count": 9,
   "metadata": {},
   "outputs": [],
   "source": [
    "X_train = scaler.transform(X_train)\n",
    "X_test = scaler.transform(X_test)"
   ]
  },
  {
   "cell_type": "markdown",
   "metadata": {},
   "source": [
    "## Creating the Model"
   ]
  },
  {
   "cell_type": "code",
   "execution_count": 10,
   "metadata": {},
   "outputs": [],
   "source": [
    "import tensorflow as tf\n",
    "from tensorflow.keras.models import Sequential\n",
    "from tensorflow.keras.layers import Dense, Activation,Dropout"
   ]
  },
  {
   "cell_type": "code",
   "execution_count": 11,
   "metadata": {},
   "outputs": [],
   "source": [
    "from tensorflow.keras.callbacks import EarlyStopping,TensorBoard"
   ]
  },
  {
   "cell_type": "code",
   "execution_count": 12,
   "metadata": {},
   "outputs": [],
   "source": [
    "early_stop = EarlyStopping(monitor='val_loss', mode='min', verbose=1, patience=25)"
   ]
  },
  {
   "cell_type": "code",
   "execution_count": 13,
   "metadata": {},
   "outputs": [
    {
     "data": {
      "text/plain": [
       "'/media/sam/OS/Users/Sam/Desktop/DT_Sc/UDEMY/Refactored_Py_DS_ML_Bootcamp-master/22-Deep Learning/ANNs'"
      ]
     },
     "execution_count": 13,
     "metadata": {},
     "output_type": "execute_result"
    }
   ],
   "source": [
    "pwd"
   ]
  },
  {
   "cell_type": "markdown",
   "metadata": {},
   "source": [
    "## Creating the Tensorboard Callback\n",
    "\n",
    "TensorBoard is a visualization tool provided with TensorFlow.\n",
    "\n",
    "This callback logs events for TensorBoard, including:\n",
    "* Metrics summary plots\n",
    "* Training graph visualization\n",
    "* Activation histograms\n",
    "* Sampled profiling\n",
    "\n",
    "If you have installed TensorFlow with pip, you should be able\n",
    "to launch TensorBoard from the command line:\n",
    "\n",
    "```sh\n",
    "tensorboard --logdir=path_to_your_logs\n",
    "```\n",
    "\n",
    "You can find more information about TensorBoard\n",
    "[here](https://www.tensorflow.org/tensorboard/).\n",
    "\n",
    "    Arguments:\n",
    "        log_dir: the path of the directory where to save the log files to be\n",
    "          parsed by TensorBoard.\n",
    "        histogram_freq: frequency (in epochs) at which to compute activation and\n",
    "          weight histograms for the layers of the model. If set to 0, histograms\n",
    "          won't be computed. Validation data (or split) must be specified for\n",
    "          histogram visualizations.\n",
    "        write_graph: whether to visualize the graph in TensorBoard. The log file\n",
    "          can become quite large when write_graph is set to True.\n",
    "        write_images: whether to write model weights to visualize as image in\n",
    "          TensorBoard.\n",
    "        update_freq: `'batch'` or `'epoch'` or integer. When using `'batch'`,\n",
    "          writes the losses and metrics to TensorBoard after each batch. The same\n",
    "          applies for `'epoch'`. If using an integer, let's say `1000`, the\n",
    "          callback will write the metrics and losses to TensorBoard every 1000\n",
    "          samples. Note that writing too frequently to TensorBoard can slow down\n",
    "          your training.\n",
    "        profile_batch: Profile the batch to sample compute characteristics. By\n",
    "          default, it will profile the second batch. Set profile_batch=0 to\n",
    "          disable profiling. Must run in TensorFlow eager mode.\n",
    "        embeddings_freq: frequency (in epochs) at which embedding layers will\n",
    "          be visualized. If set to 0, embeddings won't be visualized.\n",
    "       "
   ]
  },
  {
   "cell_type": "code",
   "execution_count": 14,
   "metadata": {},
   "outputs": [],
   "source": [
    "from datetime import datetime"
   ]
  },
  {
   "cell_type": "code",
   "execution_count": 15,
   "metadata": {},
   "outputs": [
    {
     "data": {
      "text/plain": [
       "'2021-08-03--2302'"
      ]
     },
     "execution_count": 15,
     "metadata": {},
     "output_type": "execute_result"
    }
   ],
   "source": [
    "datetime.now().strftime(\"%Y-%m-%d--%H%M\")"
   ]
  },
  {
   "cell_type": "code",
   "execution_count": 19,
   "metadata": {},
   "outputs": [],
   "source": [
    "# WINDOWS: Use \"logs\\\\fit\"\n",
    "# MACOS/LINUX: Use \"logs\\fit\"\n",
    "# check the syntax from pwd\n",
    "\n",
    "log_directory = 'logs/fit'\n",
    "\n",
    "# OPTIONAL: ADD A TIMESTAMP FOR UNIQUE FOLDER\n",
    "# timestamp = datetime.now().strftime(\"%Y-%m-%d--%H%M\")\n",
    "# log_directory = log_directory + '\\\\' + timestamp\n",
    "\n",
    "\n",
    "board = TensorBoard(log_dir=log_directory,histogram_freq=1,\n",
    "    write_graph=True,\n",
    "    write_images=True,\n",
    "    update_freq='epoch',\n",
    "    profile_batch=2,\n",
    "    embeddings_freq=1)"
   ]
  },
  {
   "cell_type": "markdown",
   "metadata": {},
   "source": [
    "Now create the model layers:"
   ]
  },
  {
   "cell_type": "code",
   "execution_count": 20,
   "metadata": {},
   "outputs": [],
   "source": [
    "model = Sequential()\n",
    "model.add(Dense(units=30,activation='relu'))\n",
    "model.add(Dropout(0.5))\n",
    "model.add(Dense(units=15,activation='relu'))\n",
    "model.add(Dropout(0.5))\n",
    "model.add(Dense(units=1,activation='sigmoid'))\n",
    "model.compile(loss='binary_crossentropy', optimizer='adam')"
   ]
  },
  {
   "cell_type": "markdown",
   "metadata": {},
   "source": [
    "## Train the Model"
   ]
  },
  {
   "cell_type": "code",
   "execution_count": 21,
   "metadata": {},
   "outputs": [
    {
     "name": "stdout",
     "output_type": "stream",
     "text": [
      "Epoch 1/600\n",
      "14/14 [==============================] - 0s 13ms/step - loss: 0.7928 - val_loss: 0.6767\n",
      "Epoch 2/600\n",
      "14/14 [==============================] - 0s 3ms/step - loss: 0.6773 - val_loss: 0.6569\n",
      "Epoch 3/600\n",
      "14/14 [==============================] - 0s 3ms/step - loss: 0.6931 - val_loss: 0.6467\n",
      "Epoch 4/600\n",
      "14/14 [==============================] - 0s 3ms/step - loss: 0.6687 - val_loss: 0.6366\n",
      "Epoch 5/600\n",
      "14/14 [==============================] - 0s 4ms/step - loss: 0.6476 - val_loss: 0.6151\n",
      "Epoch 6/600\n",
      "14/14 [==============================] - 0s 4ms/step - loss: 0.6415 - val_loss: 0.6003\n",
      "Epoch 7/600\n",
      "14/14 [==============================] - 0s 3ms/step - loss: 0.6065 - val_loss: 0.5910\n",
      "Epoch 8/600\n",
      "14/14 [==============================] - 0s 4ms/step - loss: 0.5819 - val_loss: 0.5702\n",
      "Epoch 9/600\n",
      "14/14 [==============================] - 0s 4ms/step - loss: 0.5936 - val_loss: 0.5421\n",
      "Epoch 10/600\n",
      "14/14 [==============================] - 0s 3ms/step - loss: 0.5685 - val_loss: 0.5073\n",
      "Epoch 11/600\n",
      "14/14 [==============================] - 0s 3ms/step - loss: 0.5614 - val_loss: 0.4827\n",
      "Epoch 12/600\n",
      "14/14 [==============================] - 0s 4ms/step - loss: 0.5164 - val_loss: 0.4568\n",
      "Epoch 13/600\n",
      "14/14 [==============================] - 0s 3ms/step - loss: 0.4804 - val_loss: 0.4334\n",
      "Epoch 14/600\n",
      "14/14 [==============================] - 0s 3ms/step - loss: 0.4845 - val_loss: 0.3936\n",
      "Epoch 15/600\n",
      "14/14 [==============================] - 0s 3ms/step - loss: 0.4602 - val_loss: 0.3685\n",
      "Epoch 16/600\n",
      "14/14 [==============================] - 0s 4ms/step - loss: 0.4315 - val_loss: 0.3420\n",
      "Epoch 17/600\n",
      "14/14 [==============================] - 0s 4ms/step - loss: 0.4506 - val_loss: 0.3204\n",
      "Epoch 18/600\n",
      "14/14 [==============================] - 0s 4ms/step - loss: 0.3844 - val_loss: 0.2984\n",
      "Epoch 19/600\n",
      "14/14 [==============================] - 0s 3ms/step - loss: 0.3802 - val_loss: 0.2739\n",
      "Epoch 20/600\n",
      "14/14 [==============================] - 0s 3ms/step - loss: 0.3518 - val_loss: 0.2577\n",
      "Epoch 21/600\n",
      "14/14 [==============================] - 0s 4ms/step - loss: 0.3734 - val_loss: 0.2443\n",
      "Epoch 22/600\n",
      "14/14 [==============================] - 0s 4ms/step - loss: 0.3394 - val_loss: 0.2321\n",
      "Epoch 23/600\n",
      "14/14 [==============================] - 0s 4ms/step - loss: 0.3090 - val_loss: 0.2186\n",
      "Epoch 24/600\n",
      "14/14 [==============================] - 0s 4ms/step - loss: 0.3174 - val_loss: 0.2055\n",
      "Epoch 25/600\n",
      "14/14 [==============================] - 0s 4ms/step - loss: 0.3058 - val_loss: 0.1939\n",
      "Epoch 26/600\n",
      "14/14 [==============================] - 0s 4ms/step - loss: 0.2978 - val_loss: 0.1853\n",
      "Epoch 27/600\n",
      "14/14 [==============================] - 0s 4ms/step - loss: 0.2671 - val_loss: 0.1738\n",
      "Epoch 28/600\n",
      "14/14 [==============================] - 0s 4ms/step - loss: 0.2413 - val_loss: 0.1647\n",
      "Epoch 29/600\n",
      "14/14 [==============================] - 0s 4ms/step - loss: 0.2682 - val_loss: 0.1594\n",
      "Epoch 30/600\n",
      "14/14 [==============================] - 0s 4ms/step - loss: 0.2544 - val_loss: 0.1563\n",
      "Epoch 31/600\n",
      "14/14 [==============================] - 0s 3ms/step - loss: 0.2330 - val_loss: 0.1566\n",
      "Epoch 32/600\n",
      "14/14 [==============================] - 0s 4ms/step - loss: 0.2409 - val_loss: 0.1425\n",
      "Epoch 33/600\n",
      "14/14 [==============================] - 0s 4ms/step - loss: 0.2139 - val_loss: 0.1375\n",
      "Epoch 34/600\n",
      "14/14 [==============================] - 0s 4ms/step - loss: 0.2789 - val_loss: 0.1387\n",
      "Epoch 35/600\n",
      "14/14 [==============================] - 0s 3ms/step - loss: 0.2461 - val_loss: 0.1304\n",
      "Epoch 36/600\n",
      "14/14 [==============================] - 0s 4ms/step - loss: 0.2189 - val_loss: 0.1254\n",
      "Epoch 37/600\n",
      "14/14 [==============================] - 0s 4ms/step - loss: 0.2016 - val_loss: 0.1218\n",
      "Epoch 38/600\n",
      "14/14 [==============================] - 0s 4ms/step - loss: 0.2292 - val_loss: 0.1314\n",
      "Epoch 39/600\n",
      "14/14 [==============================] - 0s 3ms/step - loss: 0.2027 - val_loss: 0.1214\n",
      "Epoch 40/600\n",
      "14/14 [==============================] - 0s 3ms/step - loss: 0.2132 - val_loss: 0.1131\n",
      "Epoch 41/600\n",
      "14/14 [==============================] - 0s 4ms/step - loss: 0.1804 - val_loss: 0.1154\n",
      "Epoch 42/600\n",
      "14/14 [==============================] - 0s 4ms/step - loss: 0.2083 - val_loss: 0.1133\n",
      "Epoch 43/600\n",
      "14/14 [==============================] - 0s 4ms/step - loss: 0.1868 - val_loss: 0.1099\n",
      "Epoch 44/600\n",
      "14/14 [==============================] - 0s 4ms/step - loss: 0.1687 - val_loss: 0.1111\n",
      "Epoch 45/600\n",
      "14/14 [==============================] - 0s 4ms/step - loss: 0.1624 - val_loss: 0.1051\n",
      "Epoch 46/600\n",
      "14/14 [==============================] - 0s 3ms/step - loss: 0.1725 - val_loss: 0.1047\n",
      "Epoch 47/600\n",
      "14/14 [==============================] - 0s 3ms/step - loss: 0.1726 - val_loss: 0.0955\n",
      "Epoch 48/600\n",
      "14/14 [==============================] - 0s 4ms/step - loss: 0.2291 - val_loss: 0.1025\n",
      "Epoch 49/600\n",
      "14/14 [==============================] - 0s 4ms/step - loss: 0.1947 - val_loss: 0.0951\n",
      "Epoch 50/600\n",
      "14/14 [==============================] - 0s 4ms/step - loss: 0.1845 - val_loss: 0.0917\n",
      "Epoch 51/600\n",
      "14/14 [==============================] - 0s 4ms/step - loss: 0.1981 - val_loss: 0.0955\n",
      "Epoch 52/600\n",
      "14/14 [==============================] - 0s 4ms/step - loss: 0.1423 - val_loss: 0.0995\n",
      "Epoch 53/600\n",
      "14/14 [==============================] - 0s 4ms/step - loss: 0.1340 - val_loss: 0.0866\n",
      "Epoch 54/600\n",
      "14/14 [==============================] - 0s 4ms/step - loss: 0.1603 - val_loss: 0.0898\n",
      "Epoch 55/600\n",
      "14/14 [==============================] - 0s 4ms/step - loss: 0.1576 - val_loss: 0.0904\n",
      "Epoch 56/600\n",
      "14/14 [==============================] - 0s 5ms/step - loss: 0.1750 - val_loss: 0.0856\n",
      "Epoch 57/600\n",
      "14/14 [==============================] - 0s 3ms/step - loss: 0.1723 - val_loss: 0.0868\n",
      "Epoch 58/600\n",
      "14/14 [==============================] - 0s 4ms/step - loss: 0.1593 - val_loss: 0.0829\n",
      "Epoch 59/600\n",
      "14/14 [==============================] - 0s 4ms/step - loss: 0.1200 - val_loss: 0.0797\n",
      "Epoch 60/600\n",
      "14/14 [==============================] - 0s 3ms/step - loss: 0.1877 - val_loss: 0.0777\n",
      "Epoch 61/600\n",
      "14/14 [==============================] - 0s 3ms/step - loss: 0.1472 - val_loss: 0.0769\n",
      "Epoch 62/600\n",
      "14/14 [==============================] - 0s 3ms/step - loss: 0.1322 - val_loss: 0.0785\n",
      "Epoch 63/600\n",
      "14/14 [==============================] - 0s 3ms/step - loss: 0.1381 - val_loss: 0.0730\n",
      "Epoch 64/600\n",
      "14/14 [==============================] - 0s 3ms/step - loss: 0.1607 - val_loss: 0.0808\n",
      "Epoch 65/600\n",
      "14/14 [==============================] - 0s 3ms/step - loss: 0.1293 - val_loss: 0.0763\n",
      "Epoch 66/600\n",
      "14/14 [==============================] - 0s 3ms/step - loss: 0.1209 - val_loss: 0.0896\n",
      "Epoch 67/600\n",
      "14/14 [==============================] - 0s 3ms/step - loss: 0.1082 - val_loss: 0.0763\n",
      "Epoch 68/600\n",
      "14/14 [==============================] - 0s 3ms/step - loss: 0.1381 - val_loss: 0.0684\n",
      "Epoch 69/600\n",
      "14/14 [==============================] - 0s 4ms/step - loss: 0.1301 - val_loss: 0.0698\n",
      "Epoch 70/600\n",
      "14/14 [==============================] - 0s 3ms/step - loss: 0.1433 - val_loss: 0.0831\n",
      "Epoch 71/600\n",
      "14/14 [==============================] - 0s 3ms/step - loss: 0.1241 - val_loss: 0.0714\n",
      "Epoch 72/600\n",
      "14/14 [==============================] - 0s 3ms/step - loss: 0.1364 - val_loss: 0.0715\n",
      "Epoch 73/600\n",
      "14/14 [==============================] - 0s 3ms/step - loss: 0.1240 - val_loss: 0.0785\n",
      "Epoch 74/600\n",
      "14/14 [==============================] - 0s 3ms/step - loss: 0.1391 - val_loss: 0.0732\n",
      "Epoch 75/600\n",
      "14/14 [==============================] - 0s 4ms/step - loss: 0.1131 - val_loss: 0.0759\n",
      "Epoch 76/600\n",
      "14/14 [==============================] - 0s 4ms/step - loss: 0.1153 - val_loss: 0.0688\n",
      "Epoch 77/600\n",
      "14/14 [==============================] - 0s 3ms/step - loss: 0.1158 - val_loss: 0.0796\n",
      "Epoch 78/600\n",
      "14/14 [==============================] - 0s 3ms/step - loss: 0.1340 - val_loss: 0.0750\n",
      "Epoch 79/600\n",
      "14/14 [==============================] - 0s 4ms/step - loss: 0.1226 - val_loss: 0.0698\n",
      "Epoch 80/600\n",
      "14/14 [==============================] - 0s 3ms/step - loss: 0.1154 - val_loss: 0.0798\n",
      "Epoch 81/600\n",
      "14/14 [==============================] - 0s 3ms/step - loss: 0.1167 - val_loss: 0.0649\n",
      "Epoch 82/600\n",
      "14/14 [==============================] - 0s 3ms/step - loss: 0.0953 - val_loss: 0.0667\n",
      "Epoch 83/600\n"
     ]
    },
    {
     "name": "stdout",
     "output_type": "stream",
     "text": [
      "14/14 [==============================] - 0s 3ms/step - loss: 0.1268 - val_loss: 0.0680\n",
      "Epoch 84/600\n",
      "14/14 [==============================] - 0s 3ms/step - loss: 0.1430 - val_loss: 0.0699\n",
      "Epoch 85/600\n",
      "14/14 [==============================] - 0s 3ms/step - loss: 0.1199 - val_loss: 0.0775\n",
      "Epoch 86/600\n",
      "14/14 [==============================] - 0s 4ms/step - loss: 0.1274 - val_loss: 0.0698\n",
      "Epoch 87/600\n",
      "14/14 [==============================] - 0s 3ms/step - loss: 0.1147 - val_loss: 0.0679\n",
      "Epoch 88/600\n",
      "14/14 [==============================] - 0s 3ms/step - loss: 0.0970 - val_loss: 0.0705\n",
      "Epoch 89/600\n",
      "14/14 [==============================] - 0s 3ms/step - loss: 0.1163 - val_loss: 0.0669\n",
      "Epoch 90/600\n",
      "14/14 [==============================] - 0s 3ms/step - loss: 0.0995 - val_loss: 0.0765\n",
      "Epoch 91/600\n",
      "14/14 [==============================] - 0s 3ms/step - loss: 0.1066 - val_loss: 0.0879\n",
      "Epoch 92/600\n",
      "14/14 [==============================] - 0s 3ms/step - loss: 0.1363 - val_loss: 0.0732\n",
      "Epoch 93/600\n",
      "14/14 [==============================] - 0s 3ms/step - loss: 0.0975 - val_loss: 0.0712\n",
      "Epoch 94/600\n",
      "14/14 [==============================] - 0s 3ms/step - loss: 0.1110 - val_loss: 0.0771\n",
      "Epoch 95/600\n",
      "14/14 [==============================] - 0s 3ms/step - loss: 0.0858 - val_loss: 0.0787\n",
      "Epoch 96/600\n",
      "14/14 [==============================] - 0s 3ms/step - loss: 0.1100 - val_loss: 0.0788\n",
      "Epoch 97/600\n",
      "14/14 [==============================] - 0s 3ms/step - loss: 0.1108 - val_loss: 0.0643\n",
      "Epoch 98/600\n",
      "14/14 [==============================] - 0s 3ms/step - loss: 0.1254 - val_loss: 0.0665\n",
      "Epoch 99/600\n",
      "14/14 [==============================] - 0s 3ms/step - loss: 0.1069 - val_loss: 0.0769\n",
      "Epoch 100/600\n",
      "14/14 [==============================] - 0s 3ms/step - loss: 0.0990 - val_loss: 0.0624\n",
      "Epoch 101/600\n",
      "14/14 [==============================] - 0s 3ms/step - loss: 0.0998 - val_loss: 0.0746\n",
      "Epoch 102/600\n",
      "14/14 [==============================] - 0s 3ms/step - loss: 0.0879 - val_loss: 0.0761\n",
      "Epoch 103/600\n",
      "14/14 [==============================] - 0s 3ms/step - loss: 0.0892 - val_loss: 0.0668\n",
      "Epoch 104/600\n",
      "14/14 [==============================] - 0s 3ms/step - loss: 0.1160 - val_loss: 0.0689\n",
      "Epoch 105/600\n",
      "14/14 [==============================] - 0s 3ms/step - loss: 0.1109 - val_loss: 0.0648\n",
      "Epoch 106/600\n",
      "14/14 [==============================] - 0s 3ms/step - loss: 0.1176 - val_loss: 0.0749\n",
      "Epoch 107/600\n",
      "14/14 [==============================] - 0s 3ms/step - loss: 0.1505 - val_loss: 0.0662\n",
      "Epoch 108/600\n",
      "14/14 [==============================] - 0s 3ms/step - loss: 0.1060 - val_loss: 0.0701\n",
      "Epoch 109/600\n",
      "14/14 [==============================] - 0s 3ms/step - loss: 0.0941 - val_loss: 0.0615\n",
      "Epoch 110/600\n",
      "14/14 [==============================] - 0s 3ms/step - loss: 0.1008 - val_loss: 0.0763\n",
      "Epoch 111/600\n",
      "14/14 [==============================] - 0s 3ms/step - loss: 0.1225 - val_loss: 0.0658\n",
      "Epoch 112/600\n",
      "14/14 [==============================] - 0s 3ms/step - loss: 0.1129 - val_loss: 0.0670\n",
      "Epoch 113/600\n",
      "14/14 [==============================] - 0s 3ms/step - loss: 0.0844 - val_loss: 0.0800\n",
      "Epoch 114/600\n",
      "14/14 [==============================] - 0s 3ms/step - loss: 0.1098 - val_loss: 0.0643\n",
      "Epoch 115/600\n",
      "14/14 [==============================] - 0s 3ms/step - loss: 0.0846 - val_loss: 0.0719\n",
      "Epoch 116/600\n",
      "14/14 [==============================] - 0s 3ms/step - loss: 0.0680 - val_loss: 0.0860\n",
      "Epoch 117/600\n",
      "14/14 [==============================] - 0s 3ms/step - loss: 0.0843 - val_loss: 0.0870\n",
      "Epoch 118/600\n",
      "14/14 [==============================] - 0s 4ms/step - loss: 0.0699 - val_loss: 0.0787\n",
      "Epoch 119/600\n",
      "14/14 [==============================] - 0s 3ms/step - loss: 0.1213 - val_loss: 0.0706\n",
      "Epoch 120/600\n",
      "14/14 [==============================] - 0s 3ms/step - loss: 0.1088 - val_loss: 0.0953\n",
      "Epoch 121/600\n",
      "14/14 [==============================] - 0s 3ms/step - loss: 0.0708 - val_loss: 0.0616\n",
      "Epoch 122/600\n",
      "14/14 [==============================] - 0s 3ms/step - loss: 0.0905 - val_loss: 0.0772\n",
      "Epoch 123/600\n",
      "14/14 [==============================] - 0s 3ms/step - loss: 0.0831 - val_loss: 0.0777\n",
      "Epoch 124/600\n",
      "14/14 [==============================] - 0s 4ms/step - loss: 0.0780 - val_loss: 0.0639\n",
      "Epoch 125/600\n",
      "14/14 [==============================] - 0s 3ms/step - loss: 0.1159 - val_loss: 0.0821\n",
      "Epoch 126/600\n",
      "14/14 [==============================] - 0s 3ms/step - loss: 0.0952 - val_loss: 0.0730\n",
      "Epoch 127/600\n",
      "14/14 [==============================] - 0s 3ms/step - loss: 0.0962 - val_loss: 0.0771\n",
      "Epoch 128/600\n",
      "14/14 [==============================] - 0s 3ms/step - loss: 0.0815 - val_loss: 0.0708\n",
      "Epoch 129/600\n",
      "14/14 [==============================] - 0s 4ms/step - loss: 0.1134 - val_loss: 0.0636\n",
      "Epoch 130/600\n",
      "14/14 [==============================] - 0s 3ms/step - loss: 0.0779 - val_loss: 0.0652\n",
      "Epoch 131/600\n",
      "14/14 [==============================] - 0s 4ms/step - loss: 0.0782 - val_loss: 0.0714\n",
      "Epoch 132/600\n",
      "14/14 [==============================] - 0s 3ms/step - loss: 0.1013 - val_loss: 0.0676\n",
      "Epoch 133/600\n",
      "14/14 [==============================] - 0s 3ms/step - loss: 0.0892 - val_loss: 0.0717\n",
      "Epoch 134/600\n",
      "14/14 [==============================] - 0s 3ms/step - loss: 0.1046 - val_loss: 0.0591\n",
      "Epoch 135/600\n",
      "14/14 [==============================] - 0s 3ms/step - loss: 0.1216 - val_loss: 0.0921\n",
      "Epoch 136/600\n",
      "14/14 [==============================] - 0s 3ms/step - loss: 0.0636 - val_loss: 0.0655\n",
      "Epoch 137/600\n",
      "14/14 [==============================] - 0s 3ms/step - loss: 0.0955 - val_loss: 0.0660\n",
      "Epoch 138/600\n",
      "14/14 [==============================] - 0s 3ms/step - loss: 0.0763 - val_loss: 0.0625\n",
      "Epoch 139/600\n",
      "14/14 [==============================] - 0s 3ms/step - loss: 0.1070 - val_loss: 0.0705\n",
      "Epoch 140/600\n",
      "14/14 [==============================] - 0s 3ms/step - loss: 0.0981 - val_loss: 0.0773\n",
      "Epoch 141/600\n",
      "14/14 [==============================] - 0s 3ms/step - loss: 0.1254 - val_loss: 0.0850\n",
      "Epoch 142/600\n",
      "14/14 [==============================] - 0s 3ms/step - loss: 0.1533 - val_loss: 0.0653\n",
      "Epoch 143/600\n",
      "14/14 [==============================] - 0s 3ms/step - loss: 0.0694 - val_loss: 0.0659\n",
      "Epoch 144/600\n",
      "14/14 [==============================] - 0s 4ms/step - loss: 0.1032 - val_loss: 0.0758\n",
      "Epoch 145/600\n",
      "14/14 [==============================] - 0s 3ms/step - loss: 0.0635 - val_loss: 0.0690\n",
      "Epoch 146/600\n",
      "14/14 [==============================] - 0s 4ms/step - loss: 0.0905 - val_loss: 0.0718\n",
      "Epoch 147/600\n",
      "14/14 [==============================] - 0s 3ms/step - loss: 0.0750 - val_loss: 0.0756\n",
      "Epoch 148/600\n",
      "14/14 [==============================] - 0s 3ms/step - loss: 0.0809 - val_loss: 0.0700\n",
      "Epoch 149/600\n",
      "14/14 [==============================] - 0s 3ms/step - loss: 0.0615 - val_loss: 0.0699\n",
      "Epoch 150/600\n",
      "14/14 [==============================] - 0s 3ms/step - loss: 0.0785 - val_loss: 0.0721\n",
      "Epoch 151/600\n",
      "14/14 [==============================] - 0s 3ms/step - loss: 0.0951 - val_loss: 0.0754\n",
      "Epoch 152/600\n",
      "14/14 [==============================] - 0s 3ms/step - loss: 0.1119 - val_loss: 0.0719\n",
      "Epoch 153/600\n",
      "14/14 [==============================] - 0s 3ms/step - loss: 0.1119 - val_loss: 0.0717\n",
      "Epoch 154/600\n",
      "14/14 [==============================] - 0s 3ms/step - loss: 0.1063 - val_loss: 0.0723\n",
      "Epoch 155/600\n",
      "14/14 [==============================] - 0s 3ms/step - loss: 0.1024 - val_loss: 0.0666\n",
      "Epoch 156/600\n",
      "14/14 [==============================] - 0s 4ms/step - loss: 0.1122 - val_loss: 0.0858\n",
      "Epoch 157/600\n",
      "14/14 [==============================] - 0s 3ms/step - loss: 0.0784 - val_loss: 0.0630\n",
      "Epoch 158/600\n",
      "14/14 [==============================] - 0s 4ms/step - loss: 0.0618 - val_loss: 0.0689\n",
      "Epoch 159/600\n",
      "14/14 [==============================] - 0s 3ms/step - loss: 0.1050 - val_loss: 0.0924\n",
      "Epoch 00159: early stopping\n"
     ]
    },
    {
     "data": {
      "text/plain": [
       "<tensorflow.python.keras.callbacks.History at 0x7f3bac29eb20>"
      ]
     },
     "execution_count": 21,
     "metadata": {},
     "output_type": "execute_result"
    }
   ],
   "source": [
    "model.fit(x=X_train, \n",
    "          y=y_train, \n",
    "          epochs=600,\n",
    "          validation_data=(X_test, y_test), verbose=1,\n",
    "          callbacks=[early_stop,board]\n",
    "          )\n",
    "# don't fit more than once in the same\n",
    "# callback log_dir"
   ]
  },
  {
   "cell_type": "markdown",
   "metadata": {},
   "source": [
    "# Running Tensorboard\n"
   ]
  },
  {
   "cell_type": "markdown",
   "metadata": {},
   "source": [
    "## Running through the Command Line\n",
    "\n",
    "**Watch video to see how to run Tensorboard through a command line call.**"
   ]
  },
  {
   "cell_type": "markdown",
   "metadata": {},
   "source": [
    "Tensorboard will run locally in your browser at [http://localhost:6006/](http://localhost:6006/)\n"
   ]
  },
  {
   "cell_type": "code",
   "execution_count": 22,
   "metadata": {},
   "outputs": [
    {
     "name": "stdout",
     "output_type": "stream",
     "text": [
      "logs/fit\n"
     ]
    }
   ],
   "source": [
    "print(log_directory)"
   ]
  },
  {
   "cell_type": "code",
   "execution_count": 23,
   "metadata": {},
   "outputs": [
    {
     "data": {
      "text/plain": [
       "'/media/sam/OS/Users/Sam/Desktop/DT_Sc/UDEMY/Refactored_Py_DS_ML_Bootcamp-master/22-Deep Learning/ANNs'"
      ]
     },
     "execution_count": 23,
     "metadata": {},
     "output_type": "execute_result"
    }
   ],
   "source": [
    "pwd"
   ]
  },
  {
   "cell_type": "markdown",
   "metadata": {},
   "source": [
    "### Use cd at your command line to change directory to the file path reported back by pwd or your current .py file location.\n",
    "### Then run this code at your command line or terminal"
   ]
  },
  {
   "cell_type": "code",
   "execution_count": 25,
   "metadata": {},
   "outputs": [
    {
     "ename": "SyntaxError",
     "evalue": "invalid syntax (<ipython-input-25-4dcb50e8f92b>, line 1)",
     "output_type": "error",
     "traceback": [
      "\u001b[0;36m  File \u001b[0;32m\"<ipython-input-25-4dcb50e8f92b>\"\u001b[0;36m, line \u001b[0;32m1\u001b[0m\n\u001b[0;31m    tensorboard --logdir logs/fit\u001b[0m\n\u001b[0m                         ^\u001b[0m\n\u001b[0;31mSyntaxError\u001b[0m\u001b[0;31m:\u001b[0m invalid syntax\n"
     ]
    }
   ],
   "source": [
    "tensorboard --logdir logs\\fit "
   ]
  },
  {
   "cell_type": "code",
   "execution_count": null,
   "metadata": {},
   "outputs": [],
   "source": []
  }
 ],
 "metadata": {
  "kernelspec": {
   "display_name": "Python 3",
   "language": "python",
   "name": "python3"
  },
  "language_info": {
   "codemirror_mode": {
    "name": "ipython",
    "version": 3
   },
   "file_extension": ".py",
   "mimetype": "text/x-python",
   "name": "python",
   "nbconvert_exporter": "python",
   "pygments_lexer": "ipython3",
   "version": "3.8.5"
  }
 },
 "nbformat": 4,
 "nbformat_minor": 2
}
