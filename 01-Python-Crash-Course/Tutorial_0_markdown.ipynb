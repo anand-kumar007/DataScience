{
 "metadata": {
  "language_info": {
   "codemirror_mode": {
    "name": "ipython",
    "version": 3
   },
   "file_extension": ".py",
   "mimetype": "text/x-python",
   "name": "python",
   "nbconvert_exporter": "python",
   "pygments_lexer": "ipython3",
   "version": 3
  },
  "orig_nbformat": 2
 },
 "nbformat": 4,
 "nbformat_minor": 2,
 "cells": [
  {
   "cell_type": "markdown",
   "source": [
    "## Headings"
   ],
   "metadata": {}
  },
  {
   "cell_type": "markdown",
   "source": [
    "i am normal text"
   ],
   "metadata": {}
  },
  {
   "cell_type": "markdown",
   "source": [
    "*I am italic text with one star*"
   ],
   "metadata": {}
  },
  {
   "cell_type": "markdown",
   "source": [
    "** I am bold text with double star **\r\n"
   ],
   "metadata": {}
  },
  {
   "cell_type": "markdown",
   "source": [
    "~~I am striked(mistaken) text with double tilde~~"
   ],
   "metadata": {}
  },
  {
   "cell_type": "markdown",
   "source": [
    "*** we are both italic and bold with triple star ***"
   ],
   "metadata": {}
  },
  {
   "cell_type": "markdown",
   "source": [
    "Quoting the text with greater than sign at the beginning\r\n",
    "> this is a quote"
   ],
   "metadata": {}
  },
  {
   "cell_type": "markdown",
   "source": [
    "some basic commands of git (wrap them inside the triple backtick to format accordingly)\r\n",
    "```\r\n",
    "git status\r\n",
    "git add\r\n",
    "git commit\r\n",
    "```"
   ],
   "metadata": {}
  },
  {
   "cell_type": "markdown",
   "source": [
    "adding the links using ```[text here] (url here)```"
   ],
   "metadata": {}
  },
  {
   "cell_type": "markdown",
   "source": [
    "[python numpy](https://numpy.org/doc/stable/reference/?v=20210529101132)"
   ],
   "metadata": {}
  },
  {
   "cell_type": "markdown",
   "source": [
    "you can give relative links in your files"
   ],
   "metadata": {}
  },
  {
   "cell_type": "markdown",
   "source": [
    "goto the another file\r\n",
    "[python DataScience](02-Python-for-Data-Analysis-NumPy)"
   ],
   "metadata": {}
  },
  {
   "cell_type": "markdown",
   "source": [
    "# list"
   ],
   "metadata": {}
  },
  {
   "cell_type": "markdown",
   "source": [
    "You can make an unordered list by preceding one or more lines of text with - or *."
   ],
   "metadata": {}
  },
  {
   "cell_type": "markdown",
   "source": [
    "- number1\r\n",
    "- number2\r\n",
    "- number3"
   ],
   "metadata": {}
  },
  {
   "cell_type": "markdown",
   "source": [
    "* number1\r\n",
    "* number2\r\n",
    "* number3"
   ],
   "metadata": {}
  },
  {
   "cell_type": "markdown",
   "source": [
    "To order your list, precede each line with a number."
   ],
   "metadata": {}
  },
  {
   "cell_type": "markdown",
   "source": [
    "1. number1\r\n",
    "2. number2\r\n",
    "3. number3"
   ],
   "metadata": {}
  },
  {
   "cell_type": "markdown",
   "source": [
    "You can create a nested list by indenting one or more list items below another item."
   ],
   "metadata": {}
  },
  {
   "cell_type": "markdown",
   "source": [
    "## Task list"
   ],
   "metadata": {}
  },
  {
   "cell_type": "markdown",
   "source": [
    "- [x] done\n",
    "- [] not done\n",
    "- [] not done yet"
   ],
   "metadata": {}
  },
  {
   "cell_type": "markdown",
   "source": [
    "emojis"
   ],
   "metadata": {}
  },
  {
   "cell_type": "markdown",
   "source": [
    ":ok:"
   ],
   "metadata": {}
  },
  {
   "cell_type": "markdown",
   "source": [
    "ignoring markdown formattin using backslash"
   ],
   "metadata": {}
  },
  {
   "cell_type": "markdown",
   "source": [
    "this is showing the use of ignoring the markdown syntaxes using \\*backslash\\*"
   ],
   "metadata": {}
  },
  {
   "cell_type": "code",
   "execution_count": null,
   "source": [],
   "outputs": [],
   "metadata": {}
  }
 ]
}